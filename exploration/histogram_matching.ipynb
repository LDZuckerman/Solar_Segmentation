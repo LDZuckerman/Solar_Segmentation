{
 "cells": [
  {
   "cell_type": "code",
   "execution_count": 1,
   "metadata": {
    "colab": {
     "base_uri": "https://localhost:8080/"
    },
    "executionInfo": {
     "elapsed": 2760,
     "status": "ok",
     "timestamp": 1618935338005,
     "user": {
      "displayName": "Benoit Tremblay",
      "photoUrl": "",
      "userId": "01478013947437862089"
     },
     "user_tz": 360
    },
    "id": "aUHra4pD0kv2",
    "outputId": "902afb43-351b-4520-f742-55861be0fede"
   },
   "outputs": [],
   "source": [
    "import numpy as np\n",
    "from astropy.io import fits\n",
    "import matplotlib.pyplot as plt\n",
    "from astropy.io import fits\n",
    "import os"
   ]
  },
  {
   "cell_type": "markdown",
   "metadata": {},
   "source": [
    "Define simple histogram matching function"
   ]
  },
  {
   "cell_type": "code",
   "execution_count": 2,
   "metadata": {},
   "outputs": [],
   "source": [
    "def hist_matching(data_in, cdf_in, bins_in, cdf_out, bins_out):\n",
    "\n",
    "    bins_in = 0.5*(bins_in[:-1] + bins_in[1:]) # Points for interpolation (input bins contain the edges)\n",
    "    bins_out = 0.5*(bins_out[:-1] + bins_out[1:])\n",
    "    cdf_tmp = np.interp(data_in.flatten(), bins_in.flatten(), cdf_in.flatten())  # Interpolation\n",
    "    data_out = np.interp(cdf_tmp, cdf_out.flatten(), bins_out.flatten())\n",
    "\n",
    "    return data_out"
   ]
  },
  {
   "cell_type": "markdown",
   "metadata": {},
   "source": [
    "#### HMI"
   ]
  },
  {
   "attachments": {},
   "cell_type": "markdown",
   "metadata": {
    "id": "rgetimmAKDAZ"
   },
   "source": [
    "Synthetic data"
   ]
  },
  {
   "cell_type": "code",
   "execution_count": 5,
   "metadata": {},
   "outputs": [
    {
     "name": "stdout",
     "output_type": "stream",
     "text": [
      "['ic_200.fits', 'ic_212.fits', 'ic_224.fits', 'ic_236.fits', 'ic_248.fits']\n",
      "(5, 246, 502)\n"
     ]
    }
   ],
   "source": [
    "# Input files (simulation)\n",
    "synthdir='/mnt/c/Users/Lea/OneDrive/SolarML_2023/HistMatch_testdata/ic_synthetic/'\n",
    "filenames_synth = os.listdir(synthdir) # sorted(glob.glob('../HistMatch_testdata/HMI_synthetic_192km/ic*'))\n",
    "print(filenames_synth) \n",
    "\n",
    "# Dimensions\n",
    "n_synth_frames = len(filenames_synth) # N test samples\n",
    "border_x1 = 5 # N pixels to remove from each border of the input data\n",
    "border_x2 = 5  \n",
    "border_y1 = 5\n",
    "border_y2 = 5  \n",
    "nx = np.shape(synth0)[1] - border_x1 - border_x2 # Image dimensions\n",
    "ny = np.shape(synth0)[0] - border_y1 - border_y2\n",
    "\n",
    "# Reference fields\n",
    "synth_data = np.zeros((n_synth_frames, ny, nx))\n",
    "for i in range(n_synth_frames):\n",
    "    synth_data[i, :, :] = fits.open(synthdir+filenames_synth[i])[0].data[border_y1:border_y1+ny, border_x1:border_x1+nx] # read_fits(filenames_test_ic[i])[border_y1:border_y1+ny, border_x1:border_x1+nx]\n",
    "print(np.shape(synth_data))"
   ]
  },
  {
   "cell_type": "code",
   "execution_count": 6,
   "metadata": {
    "id": "X1Lk_dNxvK0P"
   },
   "outputs": [],
   "source": [
    "# Compute data properties\n",
    "synth_mean = np.nanmean(synth_data)\n",
    "synth_stddev = np.nanstd(synth_data)\n",
    "synth_median = np.nanmedian(synth_data)\n",
    "\n",
    "# Normalize/standardize data (your choice)\n",
    "synth_data = (synth_data-synth_mean)/synth_stddev\n",
    "\n",
    "# Bins for histograms (of the normalized quantities)\n",
    "n_synth_bins = 2000\n",
    "synth_bins = np.linspace(np.nanmin(synth_data), np.nanmax(synth_data), n_synth_bins)\n",
    "width_synth_bins = synth_bins[1]-synth_bins[0]\n",
    "\n",
    "# Compute histograms\n",
    "synth_hist = np.zeros((n_synth_frames, n_synth_bins-1))\n",
    "for i in range(n_synth_frames):\n",
    "    synth_hist[i, :], _ = np.histogram(synth_data[i, :, :][np.isfinite(synth_data[i, :, :])].flatten(), \n",
    "                                         bins=synth_bins, \n",
    "                                         density=True)\n",
    "\n",
    "# Cumulative histogram\n",
    "synth_cdf = np.cumsum(np.nanmean(synth_hist*width_synth_bins, axis=0))"
   ]
  },
  {
   "attachments": {},
   "cell_type": "markdown",
   "metadata": {
    "id": "RNFJW5lSSP04"
   },
   "source": [
    "Real data"
   ]
  },
  {
   "cell_type": "code",
   "execution_count": 7,
   "metadata": {},
   "outputs": [
    {
     "name": "stdout",
     "output_type": "stream",
     "text": [
      "['hmi.sharp_cea_720s.377.20110214_140000_TAI.continuum_nolimbdark.fits.gz', 'hmi.sharp_cea_720s.377.20110214_141200_TAI.continuum_nolimbdark.fits.gz', 'hmi.sharp_cea_720s.377.20110214_142400_TAI.continuum_nolimbdark.fits.gz', 'hmi.sharp_cea_720s.377.20110214_143600_TAI.continuum_nolimbdark.fits.gz', 'hmi.sharp_cea_720s.377.20110214_144800_TAI.continuum_nolimbdark.fits.gz']\n",
      "(5, 367, 734)\n"
     ]
    }
   ],
   "source": [
    "# Input files (observations)\n",
    "obsdir='/mnt/c/Users/Lea/OneDrive/SolarML_2023/HistMatch_testdata/ic_hmi/'\n",
    "filenames_obs = os.listdir(obsdir) # WHY THE IDX [60:460]?? sorted(glob.glob('../HistMatch_testdata/HMI_set/*continuum_nolimbdark.fits.gz'))[360:460]\n",
    "print(filenames_obs)\n",
    "\n",
    "# Dimensions\n",
    "n_synth_frames = len(filenames_synth) # N test samples\n",
    "border_x1 = 5 # N pixels to remove from each border of the input data\n",
    "border_x2 = 5  \n",
    "border_y1 = 5\n",
    "border_y2 = 5  \n",
    "nx = np.shape(synth0)[1] - border_x1 - border_x2 # Image dimensions\n",
    "ny = np.shape(synth0)[0] - border_y1 - border_y2\n",
    "\n",
    "# Reference fields\n",
    "obs_data = np.zeros((n_obs_frames, ny, nx))\n",
    "for i in range(n_obs_frames):\n",
    "    obs_data[i, :, :] = fits.open(obsdir+filenames_obs[i])[0].data[border_y1:border_y1+ny, border_x1:border_x1+nx] # u.read_fits(filenames_test_ic[i])[border_y1:border_y1+ny, border_x1:border_x1+nx]\n",
    "print(np.shape(obs_data))"
   ]
  },
  {
   "cell_type": "code",
   "execution_count": 8,
   "metadata": {
    "id": "EODIJghHSKLR"
   },
   "outputs": [],
   "source": [
    "# Compute data properties\n",
    "obs_data_mean = np.nanmean(obs_data)\n",
    "obs_data_stddev = np.nanstd(obs_data)\n",
    "obs_data_median = np.nanmedian(obs_data)\n",
    "\n",
    "# Normalize data\n",
    "obs_data = (obs_data-obs_data_mean)/obs_data_stddev\n",
    "\n",
    "# Bins for histograms (of the normalized quantities)\n",
    "nb_bins = 2000\n",
    "obs_bins = np.linspace(np.nanmin(obs_data), np.nanmax(obs_data), \n",
    "                        nb_bins)\n",
    "width_obs_bins = obs_bins[1]-obs_bins[0]\n",
    "\n",
    "# Compute histograms\n",
    "obs_hist = np.zeros((n_obs_frames, nb_bins-1))\n",
    "for i in range(n_obs_frames):\n",
    "    obs_hist[i, :], _ = np.histogram(obs_data[i, :, :][np.isfinite(obs_data[i, :, :])].flatten(), \n",
    "                                      bins=obs_bins,\n",
    "                                      density=True)\n",
    "\n",
    "# Cumulative histogram\n",
    "obs_cdf = np.cumsum(np.nanmean(obs_hist*width_obs_bins, axis=0))"
   ]
  },
  {
   "attachments": {},
   "cell_type": "markdown",
   "metadata": {
    "id": "kgkzMzEKXNYe"
   },
   "source": [
    "Histogram matching "
   ]
  },
  {
   "cell_type": "code",
   "execution_count": 9,
   "metadata": {
    "id": "6DdfSwYsXMzv"
   },
   "outputs": [],
   "source": [
    "# Matching sharp to muram2019 (single frame)\n",
    "w_finite = np.isfinite(obs_data[0, :, :])\n",
    "obs_data_match = hist_matching(obs_data[0, :, :][w_finite], obs_cdf, obs_bins, synth_cdf, synth_bins)\n",
    "nx, ny = obs_data[0, :, :].shape\n",
    "obs_data_matched = np.zeros((nx, ny))\n",
    "obs_data_matched[w_finite] = obs_data_match\n"
   ]
  },
  {
   "cell_type": "code",
   "execution_count": 10,
   "metadata": {},
   "outputs": [],
   "source": [
    "# Matching sharp to muram2019 (sequence)\n",
    "data = obs_data[np.isfinite(obs_data)]\n",
    "obs_data_matched = hist_matching(data.flatten(), obs_cdf, obs_bins, synth_cdf, synth_bins)"
   ]
  },
  {
   "attachments": {},
   "cell_type": "markdown",
   "metadata": {
    "id": "OoTfcxhUbkyi"
   },
   "source": [
    "Plot CDFs"
   ]
  },
  {
   "cell_type": "code",
   "execution_count": 11,
   "metadata": {},
   "outputs": [
    {
     "data": {
      "image/png": "[encoded data removed]",
      "text/plain": [
       "<Figure size 400x400 with 1 Axes>"
      ]
     },
     "metadata": {},
     "output_type": "display_data"
    }
   ],
   "source": [
    "# CDF of matched image\n",
    "nb_bins = 2000\n",
    "\n",
    "obs_matched_bins = np.linspace(np.nanmin(obs_data_matched), np.nanmax(obs_data_matched), nb_bins)\n",
    "width_obs_matched_bins =obs_matched_bins[1]-obs_matched_bins[0]\n",
    "obs_matched_hist, _ = np.histogram(obs_data_matched.flatten(), bins=obs_matched_bins, density=True)\n",
    "obs_matched_cdf = np.cumsum(obs_matched_hist*width_obs_matched_bins)\n",
    "\n",
    "# Plot cumulative histograms\n",
    "ncols = 1\n",
    "nrows = 1\n",
    "colors = ['#1f77b4', '#ff7f0e', '#2ca02c', '#d62728',\n",
    "          '#9467bd', '#8c564b', '#e377c2', '#7f7f7f',\n",
    "          '#bcbd22', '#17becf']\n",
    "fig, ax = plt.subplots(figsize=(4,4))\n",
    "x = (obs_bins[:-1] + obs_bins[1:]) / 2\n",
    "ax.plot(x, obs_cdf, c=colors[2], label='observed')\n",
    "x = (synth_bins[:-1] + synth_bins[1:]) / 2\n",
    "ax.plot(x, synth_cdf, c=colors[1], label='synthetic')\n",
    "x = (obs_matched_bins[:-1] + obs_matched_bins[1:]) / 2\n",
    "ax.plot(x, obs_matched_cdf, linestyle=\"dashed\", c=colors[0], label='observed matched')\n",
    "ax.grid(True)\n",
    "ax.set_title('Cumulative Histograms')\n",
    "ax.set_xlabel('Normalized intensity')\n",
    "ax.set_ylabel('Cumulative Probability')\n",
    "ax.legend(loc='best', numpoints=1)\n",
    "plt.draw()\n",
    "filename_output = 'plot.png'\n",
    "plt.savefig(filename_output, format='png', dpi=300)\n",
    "# plt.close('all')\n",
    "\n",
    "# # Display\n",
    "# Image(filename = filename_output, width=900)"
   ]
  },
  {
   "attachments": {},
   "cell_type": "markdown",
   "metadata": {},
   "source": [
    "#### DKIST"
   ]
  },
  {
   "cell_type": "code",
   "execution_count": null,
   "metadata": {},
   "outputs": [],
   "source": [
    "import numpy as np\n",
    "from astropy.io import fits\n",
    "import scipy.signal\n",
    "import matplotlib.pyplot as plt\n",
    "from astropy.io import fits\n",
    "import os\n",
    "\n",
    "# Read in \"good\" images (well, image)\n",
    "synthdir = '../Data/'\n",
    "filenames_synth = ['DKIST_example.fits']\n",
    "print('Images to match to: ', filenames_synth)\n",
    "n_synth_frames = len(filenames_synth)\n",
    "\n",
    "# Store good images as one 3D array\n",
    "nx = np.shape(fits.open(synthdir+filenames_synth[0])[0].data)[1]\n",
    "ny = np.shape(fits.open(synthdir+filenames_synth[0])[0].data)[0]\n",
    "synth_data = np.zeros((n_synth_frames, ny, nx))\n",
    "for i in range(n_synth_frames):\n",
    "    synth_data[i, :, :] = fits.open(synthdir+filenames_synth[i])[0].data\n",
    "\n",
    "# Normalize good images\n",
    "synth_mean = np.nanmean(synth_data)\n",
    "synth_stddev = np.nanstd(synth_data)\n",
    "synth_data = (synth_data-synth_mean)/synth_stddev\n",
    "\n",
    "# Compute good image histograms\n",
    "n_synth_bins = 2000\n",
    "synth_bins = np.linspace(np.nanmin(synth_data), np.nanmax(synth_data), n_synth_bins)\n",
    "width_synth_bins = synth_bins[1]-synth_bins[0]\n",
    "synth_hist = np.zeros((n_synth_frames, n_synth_bins-1))\n",
    "for i in range(n_synth_frames):\n",
    "    synth_hist[i, :], _ = np.histogram(synth_data[i, :, :][np.isfinite(synth_data[i, :, :])].flatten(), \n",
    "                                       bins=synth_bins, density=True)\n",
    "\n",
    "# Compute good image CDF\n",
    "print(synth_hist.shape)\n",
    "print(width_synth_bins); a=b\n",
    "synth_cdf = np.cumsum(np.nanmean(synth_hist*width_synth_bins, axis=0))\n",
    "\n",
    "# Read in \"bad\" images\n",
    "obsdir = '../Data/DKIST_gband_series_183653/'\n",
    "filenames_obs =  [filename for filename in os.listdir(obsdir) if '4096' in filename and not 'SEG' in filename]\n",
    "print('Images to scale: ', filenames_obs)\n",
    "n_obs_frames = len(filenames_obs)\n",
    "\n",
    "# Store bad images as one 3D array\n",
    "border = 20\n",
    "nx = np.shape(fits.open(obsdir+filenames_obs[0])[1].data)[1] - 2*border\n",
    "ny = np.shape(fits.open(obsdir+filenames_obs[0])[1].data)[0] - 2*border\n",
    "obs_data = np.zeros((n_obs_frames, ny, nx))\n",
    "for i in range(n_obs_frames):\n",
    "    obs_data[i, :, :] = fits.open(obsdir+filenames_obs[i])[1].data[border:border+ny, border:border+nx]\n",
    "\n",
    "# Normalize bad images\n",
    "obs_data_mean = np.nanmean(obs_data)\n",
    "obs_data_stddev = np.nanstd(obs_data)\n",
    "obs_data = (obs_data-obs_data_mean)/obs_data_stddev\n",
    "\n",
    "# Compute bad image histograms\n",
    "nb_bins = 2000\n",
    "obs_bins = np.linspace(np.nanmin(obs_data), np.nanmax(obs_data), nb_bins)\n",
    "width_obs_bins = obs_bins[1]-obs_bins[0]\n",
    "obs_hist = np.zeros((n_obs_frames, nb_bins-1))\n",
    "for i in range(n_obs_frames):\n",
    "    obs_hist[i, :], _ = np.histogram(obs_data[i, :, :][np.isfinite(obs_data[i, :, :])].flatten(), \n",
    "                                     bins=obs_bins, density=True)\n",
    "\n",
    "# Compute bad image CDF\n",
    "obs_cdf = np.cumsum(np.nanmean(obs_hist*width_obs_bins, axis=0))\n",
    "\n",
    "# Match one frame of obs to one frame of synth\n",
    "obs_data_matched = hist_matching(obs_data[0, :, :], obs_cdf, obs_bins, synth_cdf, synth_bins)\n",
    "obs_data_matched = obs_data_matched.reshape(np.shape(obs_data[0, :, :]))\n",
    "fig, (ax1, ax2) = plt.subplots(1,2)\n",
    "ax1.imshow(obs_data[0, :, :])\n",
    "ax1.set_title('original image')\n",
    "ax2.imshow(obs_data_matched)\n",
    "ax2.set_title('scaled image')\n",
    "\n",
    "# Match all obs to all synth\n",
    "data = obs_data\n",
    "obs_data_matched = hist_matching(data, obs_cdf, obs_bins, synth_cdf, synth_bins)\n",
    "obs_data_matched = obs_data_matched.reshape(np.shape(obs_data))\n",
    "fig, axs = plt.subplots(10, 2, figsize=(15, 50))\n",
    "j = 0\n",
    "for i in range(0, 19, 2):\n",
    "    axs[0,i].imshow(obs_data[j, :, :])\n",
    "    axs[0,i].set_title('original image')\n",
    "    axs[1,i].imshow(obs_data_matched[j, :, :])\n",
    "    axs[1,i].set_title('scaled image')\n",
    "    j = j+1\n",
    "\n",
    "# Compute CDF of matched image\n",
    "nb_bins = 2000\n",
    "obs_matched_bins = np.linspace(np.nanmin(obs_data_matched), np.nanmax(obs_data_matched), nb_bins)\n",
    "width_obs_matched_bins =obs_matched_bins[1]-obs_matched_bins[0]\n",
    "obs_matched_hist, _ = np.histogram(obs_data_matched.flatten(), bins=obs_matched_bins, density=True)\n",
    "obs_matched_cdf = np.cumsum(obs_matched_hist*width_obs_matched_bins)\n",
    "\n",
    "# Plot cumulative histograms\n",
    "colors = ['#1f77b4', '#ff7f0e', '#2ca02c', '#d62728','#9467bd', '#8c564b', '#e377c2', '#7f7f7f','#bcbd22', '#17becf']\n",
    "fig, ax = plt.subplots(figsize=(4,4))\n",
    "x = (obs_bins[:-1] + obs_bins[1:]) / 2\n",
    "ax.plot(x, obs_cdf, c=colors[2], label='observed')\n",
    "x = (synth_bins[:-1] + synth_bins[1:]) / 2\n",
    "ax.plot(x, synth_cdf, c=colors[1], label='synthetic')\n",
    "x = (obs_matched_bins[:-1] + obs_matched_bins[1:]) / 2\n",
    "ax.plot(x, obs_matched_cdf, linestyle=\"dashed\", c=colors[0], label='observed matched')\n",
    "ax.grid(True)\n",
    "ax.set_title('Cumulative Histograms')\n",
    "ax.set_xlabel('Normalized intensity')\n",
    "ax.set_ylabel('Cumulative Probability')\n",
    "ax.legend(loc='best', numpoints=1)\n",
    "plt.draw()\n",
    "filename_output = 'plot.png'\n",
    "plt.savefig(filename_output, format='png', dpi=300)"
   ]
  }
 ],
 "metadata": {
  "colab": {
   "collapsed_sections": [],
   "name": "histogram_matching.ipynb",
   "provenance": []
  },
  "kernelspec": {
   "display_name": "Python 3 (ipykernel)",
   "language": "python",
   "name": "python3"
  },
  "language_info": {
   "codemirror_mode": {
    "name": "ipython",
    "version": 3
   },
   "file_extension": ".py",
   "mimetype": "text/x-python",
   "name": "python",
   "nbconvert_exporter": "python",
   "pygments_lexer": "ipython3",
   "version": "3.10.4"
  },
  "vscode": {
   "interpreter": {
    "hash": "bffceb28666767ceda06a57ca91554d3fe25c52d4e37883826ebe4b6d8a1123c"
   }
  }
 },
 "nbformat": 4,
 "nbformat_minor": 4
}
